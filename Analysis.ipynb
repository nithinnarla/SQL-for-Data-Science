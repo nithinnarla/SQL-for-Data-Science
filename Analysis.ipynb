{
    "cells": [
        {
            "metadata": {},
            "cell_type": "code",
            "source": "print('Hi')",
            "execution_count": 1,
            "outputs": [
                {
                    "output_type": "stream",
                    "text": "Hi\n",
                    "name": "stdout"
                }
            ]
        },
        {
            "metadata": {},
            "cell_type": "markdown",
            "source": "Analysis"
        },
        {
            "metadata": {},
            "cell_type": "code",
            "source": "\nimport types\nimport pandas as pd\nfrom botocore.client import Config\nimport ibm_boto3\n\ndef __iter__(self): return 0\n\n# @hidden_cell\n# The following code accesses a file in your IBM Cloud Object Storage. It includes your credentials.\n# You might want to remove those credentials before you share the notebook.\nclient_f3d705905fcf44abac17bf5587734c2c = ibm_boto3.client(service_name='s3',\n    ibm_api_key_id='oiPiUAUjLDDTfyBlf9EjirwrB2am2AsbaQAKvSSVpKEF',\n    ibm_auth_endpoint=\"https://iam.cloud.ibm.com/oidc/token\",\n    config=Config(signature_version='oauth'),\n    endpoint_url='https://s3.eu-geo.objectstorage.service.networklayer.com')\n\nbody = client_f3d705905fcf44abac17bf5587734c2c.get_object(Bucket='visualimagerecognition-donotdelete-pr-ayjsaidwcgj30h',Key='P4-Movie-Ratings.csv')['Body']\n# add missing __iter__ method, so pandas accepts body as file-like object\nif not hasattr(body, \"__iter__\"): body.__iter__ = types.MethodType( __iter__, body )\n\ndf_data_1 = pd.read_csv(body)\ndf_data_1.head()\n",
            "execution_count": 4,
            "outputs": [
                {
                    "output_type": "execute_result",
                    "execution_count": 4,
                    "data": {
                        "text/plain": "                    Film      Genre  Rotten Tomatoes Ratings %  \\\n0  (500) Days of Summer      Comedy                         87   \n1            10,000 B.C.  Adventure                          9   \n2             12 Rounds      Action                         30   \n3              127 Hours  Adventure                         93   \n4              17 Again      Comedy                         55   \n\n   Audience Ratings %  Budget (million $)  Year of release  \n0                  81                   8             2009  \n1                  44                 105             2008  \n2                  52                  20             2009  \n3                  84                  18             2010  \n4                  70                  20             2009  ",
                        "text/html": "<div>\n<style scoped>\n    .dataframe tbody tr th:only-of-type {\n        vertical-align: middle;\n    }\n\n    .dataframe tbody tr th {\n        vertical-align: top;\n    }\n\n    .dataframe thead th {\n        text-align: right;\n    }\n</style>\n<table border=\"1\" class=\"dataframe\">\n  <thead>\n    <tr style=\"text-align: right;\">\n      <th></th>\n      <th>Film</th>\n      <th>Genre</th>\n      <th>Rotten Tomatoes Ratings %</th>\n      <th>Audience Ratings %</th>\n      <th>Budget (million $)</th>\n      <th>Year of release</th>\n    </tr>\n  </thead>\n  <tbody>\n    <tr>\n      <th>0</th>\n      <td>(500) Days of Summer</td>\n      <td>Comedy</td>\n      <td>87</td>\n      <td>81</td>\n      <td>8</td>\n      <td>2009</td>\n    </tr>\n    <tr>\n      <th>1</th>\n      <td>10,000 B.C.</td>\n      <td>Adventure</td>\n      <td>9</td>\n      <td>44</td>\n      <td>105</td>\n      <td>2008</td>\n    </tr>\n    <tr>\n      <th>2</th>\n      <td>12 Rounds</td>\n      <td>Action</td>\n      <td>30</td>\n      <td>52</td>\n      <td>20</td>\n      <td>2009</td>\n    </tr>\n    <tr>\n      <th>3</th>\n      <td>127 Hours</td>\n      <td>Adventure</td>\n      <td>93</td>\n      <td>84</td>\n      <td>18</td>\n      <td>2010</td>\n    </tr>\n    <tr>\n      <th>4</th>\n      <td>17 Again</td>\n      <td>Comedy</td>\n      <td>55</td>\n      <td>70</td>\n      <td>20</td>\n      <td>2009</td>\n    </tr>\n  </tbody>\n</table>\n</div>"
                    },
                    "metadata": {}
                }
            ]
        },
        {
            "metadata": {},
            "cell_type": "code",
            "source": "",
            "execution_count": null,
            "outputs": []
        }
    ],
    "metadata": {
        "kernelspec": {
            "name": "python3",
            "display_name": "Python 3.6",
            "language": "python"
        },
        "language_info": {
            "name": "python",
            "version": "3.6.9",
            "mimetype": "text/x-python",
            "codemirror_mode": {
                "name": "ipython",
                "version": 3
            },
            "pygments_lexer": "ipython3",
            "nbconvert_exporter": "python",
            "file_extension": ".py"
        }
    },
    "nbformat": 4,
    "nbformat_minor": 1
}